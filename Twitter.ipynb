{
 "cells": [
  {
   "cell_type": "code",
   "execution_count": 17,
   "id": "ed869da8",
   "metadata": {},
   "outputs": [],
   "source": [
    "import time\n",
    "from selenium import webdriver\n",
    "from selenium.webdriver.chrome.service import Service\n",
    "from selenium.webdriver.common.keys import Keys\n",
    "from selenium.webdriver.common.by import By\n",
    "from selenium.webdriver.chrome.options import Options\n",
    "import numpy as np\n",
    "import pandas as pd\n",
    "import seaborn as sns\n",
    "import matplotlib.pyplot as plt\n",
    "from transformers import pipeline"
   ]
  },
  {
   "cell_type": "code",
   "execution_count": 2,
   "id": "80dc14fe",
   "metadata": {},
   "outputs": [],
   "source": [
    "path = \"D:/data cleaning/Chrome Driver/chromedriver-win64/chromedriver.exe\"\n",
    "s = Service(path)\n",
    "\n",
    "# Setup Chrome options\n",
    "options = Options()\n",
    "\n",
    "# Start browser\n",
    "driver = webdriver.Chrome(options=options,service=s)\n",
    "driver.get(\"https://x.com\")  # Load domain first to set base cookies\n",
    "\n",
    "# Wait a bit for page load\n",
    "time.sleep(3)\n",
    "\n",
    "# Your copied cookies from DevTools\n",
    "cookies = [\n",
    "    {\"name\": \"auth_token\", \"value\": \"1d0077e2bbdab26848b2a715b548065f62a30170\"},\n",
    "    {\"name\": \"ct0\", \"value\": \"2397af26f2088e7b23d3022914420f647d4e24e1783a992185f9cda71e195788ddd7daa744c6f4541ae1181c232e50591dd7a823f734850b4c9c65c59da26088b8f57577a35dca3dafa74856be28fd6a\"},\n",
    "    {\"name\": \"twid\", \"value\": \"u%3D1151873054596710400\"},\n",
    "    {\"name\": \"guest_id\", \"value\": \"v1%3A173765736390788684\"},\n",
    "    # Add more if you copied them\n",
    "]\n",
    "\n",
    "# Add cookies to the browser\n",
    "for cookie in cookies:\n",
    "    driver.add_cookie(cookie)\n",
    "\n",
    "driver.get(\"https://x.com/home\")\n",
    "time.sleep(1)\n",
    "driver.get(\"https://x.com/explore\")\n",
    "time.sleep(3)\n"
   ]
  },
  {
   "cell_type": "code",
   "execution_count": 3,
   "id": "9d868d59",
   "metadata": {},
   "outputs": [],
   "source": [
    "box = driver.find_element(By.CSS_SELECTOR, 'input[aria-label=\"Search query\"]')\n",
    "box.send_keys(\"indian politics\")\n",
    "box.send_keys(Keys.RETURN)\n",
    "time.sleep(5)"
   ]
  },
  {
   "cell_type": "code",
   "execution_count": 4,
   "id": "ac937d7f",
   "metadata": {},
   "outputs": [],
   "source": [
    "for _ in range(5):\n",
    "    driver.execute_script(\"window.scrollTo(0,document.body.scrollHeight)\")\n",
    "    time.sleep(4)"
   ]
  },
  {
   "cell_type": "code",
   "execution_count": 5,
   "id": "e7dd5e09",
   "metadata": {
    "scrolled": true
   },
   "outputs": [
    {
     "name": "stdout",
     "output_type": "stream",
     "text": [
      "Found 10 tweets\n"
     ]
    }
   ],
   "source": [
    "data = []\n",
    "tweets = driver.find_elements(By.XPATH, '//article[@data-testid=\"tweet\"]')\n",
    "print(f\"Found {len(tweets)} tweets\")\n",
    "for tweet in tweets:\n",
    "    content = tweet.text\n",
    "    try:\n",
    "        lines = content.splitlines()  \n",
    "        data.append(lines)\n",
    "    except:\n",
    "        data.append(np.nan)\n"
   ]
  },
  {
   "cell_type": "code",
   "execution_count": 6,
   "id": "733c59ae",
   "metadata": {},
   "outputs": [],
   "source": [
    "data = [' '.join(tweet[4:-3]) for tweet in data if isinstance(tweet, list) and len(tweet) > 4]"
   ]
  },
  {
   "cell_type": "code",
   "execution_count": 10,
   "id": "a03b1af5",
   "metadata": {
    "scrolled": true
   },
   "outputs": [
    {
     "name": "stderr",
     "output_type": "stream",
     "text": [
      "No model was supplied, defaulted to distilbert/distilbert-base-uncased-finetuned-sst-2-english and revision 714eb0f (https://huggingface.co/distilbert/distilbert-base-uncased-finetuned-sst-2-english).\n",
      "Using a pipeline without specifying a model name and revision in production is not recommended.\n",
      "Device set to use cuda:0\n"
     ]
    },
    {
     "name": "stdout",
     "output_type": "stream",
     "text": [
      "Jul 5 Automated Replying to  @TrumpDailyPosts Zohran Mamdani’s college application fraud isn’t just personal hypocrisy—it’s a symptom of systemic rot. Checking “Black” while admitting he’s Indian-Ugandan exposes how identity politics corrupt merit-based systems. Columbia’s race-based admissions, designed to boost certain Show more 2:NEGATIVE\n",
      "---------------\n",
      "Indian Culture attacked in U.S. Politics? The Zohran Mamdani controversy  Watch: https://youtu.be/EwdR09Qyjt8 | #ZohranMamdani #IndianCulture #BrandonGill #NYCMayor #USPolitics:NEGATIVE\n",
      "---------------\n",
      "Indians need to mature mentally before they mature politically. Indian approach to even Domestic Politics js extremely stupid, but somehow they want to engage themselves in International/Extra-National issues. Aravind @aravind · Jul 2:NEGATIVE\n",
      "---------------\n",
      "Replying to  @Nagarjun__s If you want to see South Indian as PM then your leaders should know how to win hearts of complete India. By playing petty politics of language and regions they cannot become national leaders 3:POSITIVE\n",
      "---------------\n",
      "Replying to  @MeghUpdates Arvind Kejriwal is the most disgusting person in the Indian politics! 3:NEGATIVE\n",
      "---------------\n",
      ":POSITIVE\n",
      "---------------\n",
      "The biggest drawbacks of Indian politicians are the region based politics, In Maharashtra you have to speak Marathi In Karnataka you have to speak kannad like what? Am the citizen of india and I am free to travel where I wanted to I am free to settle where I wanted to. #Oneindia:NEGATIVE\n",
      "---------------\n",
      "In a significant move, Mr. Sikander from W23 Shakirabad joined the Congress Party, welcomed by Advocate Janab Syed Burhanudeen Saheb, National Joint Coordinator of All India Kisan Congress. #CongressParty #KisanCongress #Shakirabad #FarmersRights #IndianPolitics 1:POSITIVE\n",
      "---------------\n",
      "India is in the midst of a pivotal election, with Prime Minister Narendra Modi seeking a third term and another five years in power. But  @debhartha  says Modi's right-wing Hindu nationalist agenda, based primarily on \"hatred and demonization of Muslims,\" is beginning to falter. 21:NEGATIVE\n",
      "---------------\n",
      "PM Modi is the Amitabh Bachchan+Shahrukh Khan+Salman Khan+Dilip Kumar+Rajesh Khanna+RajniKant of Indian politics. 208:POSITIVE\n",
      "---------------\n"
     ]
    }
   ],
   "source": [
    "dic = {}\n",
    "p = pipeline(\"sentiment-analysis\")\n",
    "for d in data:\n",
    "    dic[d] = p(d)[0]['label']\n",
    "    print(f\"{d}:{dic[d]}\")\n",
    "    print('-'*15)"
   ]
  },
  {
   "cell_type": "code",
   "execution_count": 21,
   "id": "da735a20",
   "metadata": {
    "scrolled": false
   },
   "outputs": [
    {
     "data": {
      "image/png": "[encoded data removed]",
      "text/plain": [
       "<Figure size 800x400 with 1 Axes>"
      ]
     },
     "metadata": {},
     "output_type": "display_data"
    }
   ],
   "source": [
    "df = pd.DataFrame(list(dic.items()), columns=['tweet', 'sentiment'])\n",
    "\n",
    "plt.figure(figsize=(8, 4))\n",
    "sns.countplot(data=df, x='sentiment', hue='sentiment', palette={'POSITIVE': 'green', 'NEGATIVE': 'red'}, legend=False)\n",
    "plt.title(\"Sentiment Distribution of Tweets\")\n",
    "plt.xlabel(\"Sentiment\")\n",
    "plt.ylabel(\"Number of Tweets\")\n",
    "plt.show()"
   ]
  }
 ],
 "metadata": {
  "kernelspec": {
   "display_name": "Python 3 (ipykernel)",
   "language": "python",
   "name": "python3"
  },
  "language_info": {
   "codemirror_mode": {
    "name": "ipython",
    "version": 3
   },
   "file_extension": ".py",
   "mimetype": "text/x-python",
   "name": "python",
   "nbconvert_exporter": "python",
   "pygments_lexer": "ipython3",
   "version": "3.12.8"
  }
 },
 "nbformat": 4,
 "nbformat_minor": 5
}
