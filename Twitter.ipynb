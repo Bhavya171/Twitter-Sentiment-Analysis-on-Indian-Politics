{
 "cells": [
  {
   "cell_type": "code",
   "execution_count": 1,
   "id": "ed869da8",
   "metadata": {},
   "outputs": [
    {
     "name": "stderr",
     "output_type": "stream",
     "text": [
      "D:\\anaconda\\envs\\Visual\\Lib\\site-packages\\tqdm\\auto.py:21: TqdmWarning: IProgress not found. Please update jupyter and ipywidgets. See https://ipywidgets.readthedocs.io/en/stable/user_install.html\n",
      "  from .autonotebook import tqdm as notebook_tqdm\n"
     ]
    }
   ],
   "source": [
    "import time\n",
    "from selenium import webdriver\n",
    "from selenium.webdriver.chrome.service import Service\n",
    "from selenium.webdriver.common.keys import Keys\n",
    "from selenium.webdriver.common.by import By\n",
    "from selenium.webdriver.chrome.options import Options\n",
    "import numpy as np\n",
    "import pandas as pd\n",
    "import seaborn as sns\n",
    "import matplotlib.pyplot as plt\n",
    "from transformers import pipeline"
   ]
  },
  {
   "cell_type": "code",
   "execution_count": 2,
   "id": "80dc14fe",
   "metadata": {},
   "outputs": [],
   "source": [
    "path = \"D:/data cleaning/Chrome Driver/chromedriver-win64/chromedriver.exe\"\n",
    "s = Service(path)\n",
    "\n",
    "# Setup Chrome options\n",
    "options = Options()\n",
    "\n",
    "# Start browser\n",
    "driver = webdriver.Chrome(options=options,service=s)\n",
    "driver.get(\"https://x.com\")  # Load domain first to set base cookies\n",
    "\n",
    "# Wait a bit for page load\n",
    "time.sleep(3)\n",
    "\n",
    "cookies = [\n",
    "    {\"name\": \"auth_token\", \"value\": \"1d0077e2bbdab26848b2a715b548065f62a30170\"},\n",
    "    {\"name\": \"ct0\", \"value\": \"2397af26f2088e7b23d3022914420f647d4e24e1783a992185f9cda71e195788ddd7daa744c6f4541ae1181c232e50591dd7a823f734850b4c9c65c59da26088b8f57577a35dca3dafa74856be28fd6a\"},\n",
    "    {\"name\": \"twid\", \"value\": \"u%3D1151873054596710400\"},\n",
    "    {\"name\": \"guest_id\", \"value\": \"v1%3A173765736390788684\"},\n",
    "]\n",
    "\n",
    "# Add cookies to the browser\n",
    "for cookie in cookies:\n",
    "    driver.add_cookie(cookie)\n",
    "\n",
    "driver.get(\"https://x.com/home\")\n",
    "time.sleep(1)\n",
    "driver.get(\"https://x.com/explore\")\n",
    "time.sleep(3)\n"
   ]
  },
  {
   "cell_type": "code",
   "execution_count": 3,
   "id": "9d868d59",
   "metadata": {},
   "outputs": [],
   "source": [
    "box = driver.find_element(By.CSS_SELECTOR, 'input[aria-label=\"Search query\"]')\n",
    "box.send_keys(\"indian politics\")\n",
    "box.send_keys(Keys.RETURN)\n",
    "time.sleep(5)"
   ]
  },
  {
   "cell_type": "code",
   "execution_count": 4,
   "id": "ac937d7f",
   "metadata": {},
   "outputs": [],
   "source": [
    "for _ in range(5):\n",
    "    driver.execute_script(\"window.scrollTo(0,document.body.scrollHeight)\")\n",
    "    time.sleep(4)"
   ]
  },
  {
   "cell_type": "code",
   "execution_count": 5,
   "id": "e7dd5e09",
   "metadata": {
    "scrolled": true
   },
   "outputs": [
    {
     "name": "stdout",
     "output_type": "stream",
     "text": [
      "Found 7 tweets\n"
     ]
    }
   ],
   "source": [
    "data = []\n",
    "tweets = driver.find_elements(By.XPATH, '//article[@data-testid=\"tweet\"]')\n",
    "print(f\"Found {len(tweets)} tweets\")\n",
    "for tweet in tweets:\n",
    "    content = tweet.text\n",
    "    try:\n",
    "        lines = content.splitlines()  \n",
    "        data.append(lines)\n",
    "    except:\n",
    "        data.append(np.nan)\n"
   ]
  },
  {
   "cell_type": "code",
   "execution_count": 6,
   "id": "733c59ae",
   "metadata": {},
   "outputs": [],
   "source": [
    "data = [' '.join(tweet[4:-3]) for tweet in data if isinstance(tweet, list) and len(tweet) > 4]"
   ]
  },
  {
   "cell_type": "code",
   "execution_count": 7,
   "id": "a03b1af5",
   "metadata": {
    "scrolled": true
   },
   "outputs": [
    {
     "name": "stderr",
     "output_type": "stream",
     "text": [
      "No model was supplied, defaulted to distilbert/distilbert-base-uncased-finetuned-sst-2-english and revision 714eb0f (https://huggingface.co/distilbert/distilbert-base-uncased-finetuned-sst-2-english).\n",
      "Using a pipeline without specifying a model name and revision in production is not recommended.\n"
     ]
    },
    {
     "name": "stdout",
     "output_type": "stream",
     "text": [
      "WARNING:tensorflow:From D:\\anaconda\\envs\\Visual\\Lib\\site-packages\\tf_keras\\src\\losses.py:2976: The name tf.losses.sparse_softmax_cross_entropy is deprecated. Please use tf.compat.v1.losses.sparse_softmax_cross_entropy instead.\n",
      "\n"
     ]
    },
    {
     "name": "stderr",
     "output_type": "stream",
     "text": [
      "Device set to use cuda:0\n"
     ]
    },
    {
     "name": "stdout",
     "output_type": "stream",
     "text": [
      "The architect of 21st-century India, Rajiv Gandhi, is rightfully hailed as the 'Father of Information Technology’. A leader par excellence, his vision left an indelible mark on Indian politics.  Our heartfelt tributes to India’s youngest PM, who changed the country forever. 190:POSITIVE\n",
      "---------------\n",
      "Replying to  @SarkarSupriyo India can not be allowed to continue to alter professional cricket indefinitely. :NEGATIVE\n",
      "---------------\n",
      "On his birth anniversary, we pay tribute to Om Mehta, Former Union Minister & an important figure in Indian politics, who rose from the Himalayas & made a notable contribution towards India. 8:POSITIVE\n",
      "---------------\n",
      "We feel very strongly that Indian women are not participating in the political system the way they should be. The single biggest act to help them participate in politics was carried out by Congress party, i.e., 33% reservation in Panchayati Raj which was a game changer.  Also, Show more 1:17 65:NEGATIVE\n",
      "---------------\n",
      "In loving memory of a great statesman, Oommen Chandy– a true stalwart of Indian politics and an embodiment of integrity, compassion, and wisdom.   With heavy hearts, the Congress Party mourns the passing of our remarkable leader whose spirit shall guide us forever. 43:POSITIVE\n",
      "---------------\n",
      "The passing away of veteran leader, Shri Parkash Singh Badal Sahab is deeply saddening. His career spanning several decades was dedicated to the welfare of the poor. His demise is an irreparable loss to Indian politics. My heartfelt condolences are with his family and followers. 173:NEGATIVE\n",
      "---------------\n",
      "21st July 2025 marks the 83rd birthday of Mallikarjun Kharge.  Wishing Mallikarjun Kharge Ji a very Happy Birthday!  He has been a prominent leader in Indian politics for decades — especially known for his strong influence in Karnataka and among the Dalit community. In Show more:POSITIVE\n",
      "---------------\n"
     ]
    }
   ],
   "source": [
    "dic = {}\n",
    "p = pipeline(\"sentiment-analysis\")\n",
    "for d in data:\n",
    "    dic[d] = p(d)[0]['label']\n",
    "    print(f\"{d}:{dic[d]}\")\n",
    "    print('-'*15)"
   ]
  },
  {
   "cell_type": "code",
   "execution_count": 8,
   "id": "da735a20",
   "metadata": {
    "scrolled": false
   },
   "outputs": [
    {
     "data": {
      "image/png": "[encoded data removed]",
      "text/plain": [
       "<Figure size 800x400 with 1 Axes>"
      ]
     },
     "metadata": {},
     "output_type": "display_data"
    }
   ],
   "source": [
    "df = pd.DataFrame(list(dic.items()), columns=['tweet', 'sentiment'])\n",
    "\n",
    "plt.figure(figsize=(8, 4))\n",
    "sns.countplot(data=df, x='sentiment', hue='sentiment', palette={'POSITIVE': 'green', 'NEGATIVE': 'red'}, legend=False)\n",
    "plt.title(\"Sentiment Distribution of Tweets\")\n",
    "plt.xlabel(\"Sentiment\")\n",
    "plt.ylabel(\"Number of Tweets\")\n",
    "plt.show()"
   ]
  },
  {
   "cell_type": "code",
   "execution_count": null,
   "id": "7c772271",
   "metadata": {},
   "outputs": [],
   "source": []
  }
 ],
 "metadata": {
  "kernelspec": {
   "display_name": "Python 3 (ipykernel)",
   "language": "python",
   "name": "python3"
  },
  "language_info": {
   "codemirror_mode": {
    "name": "ipython",
    "version": 3
   },
   "file_extension": ".py",
   "mimetype": "text/x-python",
   "name": "python",
   "nbconvert_exporter": "python",
   "pygments_lexer": "ipython3",
   "version": "3.12.8"
  }
 },
 "nbformat": 4,
 "nbformat_minor": 5
}
